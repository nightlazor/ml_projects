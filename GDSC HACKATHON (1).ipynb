{
 "cells": [
  {
   "cell_type": "code",
   "execution_count": 67,
   "id": "adf9595b",
   "metadata": {},
   "outputs": [],
   "source": [
    "import requests \n",
    "from bs4 import BeautifulSoup"
   ]
  },
  {
   "cell_type": "code",
   "execution_count": 68,
   "id": "ee80e348",
   "metadata": {},
   "outputs": [
    {
     "name": "stdout",
     "output_type": "stream",
     "text": [
      "L’Oréal India For Young Women in Science Scholarships :  Lumpsum scholarship amount of INR 2.5 Lakhs\n",
      "G. P. Birla Scholarship :  Scholarship worth up to INR 50,000 per annum and other additional benefits\n",
      "CLP India Scholarship Scheme :  Up to INR 18,000 per annum\n",
      "Sitaram Jindal Foundation Scholarship Scheme :  Up to INR 1,000 per month\n",
      "NIU Scholarship cum Admission Test (NSAT) :  Tuition fee waiver of up to 70%\n",
      "Raman Kant Munjal Scholarship :  Up to INR 270,000 per annum for 3 years\n",
      "Dr. Reddy’s Foundation Sashakt Scholarship :  INR 240,000 for 3 years of study\n",
      "ICTS – S. N. Bhatt Memorial Excellence Fellowship Program :  Cash prize of up to INR 1 Lakh\n",
      "ICAI Commerce Wizard :  Tuition fee waiver of up to 80% for pursuing postgraduate courses\n",
      "The Anant Fellowship :  Monthly allowance of JPY 117,000 and other benefits like travelling expenses, supplemental regional allowance, transportation allowance and more\n",
      "Japanese Government (MEXT) Scholarships for Undergraduate Students :  Full and partial scholarships\n",
      "Chinese Government Scholarship :  Full tuition fee along with other benefits\n",
      "The Rhodes Scholarships for India, University of Oxford :  Settlement allowance, monthly allowance, research allowance, reimbursement of thesis printing charges, airfare and other expenses\n",
      "Korean Government Scholarship Program (KGSP) :  Tuition fee waiver of up to EUR 5,000\n",
      "Trinity College Dublin Scholarship, Ireland :  Monthly allowance of EUR 900\n",
      "Italian Government Scholarship :  Tuition fees, registration fees, insurance, monthly stipend and visa\n",
      "Mexican Government Scholarships for International Students :  Full tuition fee waiver\n",
      "Brazilian Government Scholarship :  Monthly allowance, tuition fee and health insurance\n",
      "Israel Government Scholarships :  Tuition fee waiver of up to 25%\n",
      "[250000.0, 50000, 18000, 12000, 270000, 240000, 100000]\n"
     ]
    }
   ],
   "source": [
    "req=requests.get(\"https://www.buddy4study.com/article/scholarships-for-undergraduates\")\n",
    "soup=BeautifulSoup(req.content,\"html.parser\")\n",
    "\n",
    "scholarship=[]\n",
    "money=[]\n",
    "prizes1=[]\n",
    "series=[]#contains a list of sentences\n",
    "sentences=[]\n",
    "\n",
    "\n",
    "for tag in soup.find_all([\"h3\"]):\n",
    "         scholarship.append(tag.text.strip())\n",
    "scholarship.pop(0)\n",
    "for tag1 in soup.find_all([\"p\"]):\n",
    "    series.append(tag1.text.strip())\n",
    "\n",
    "    \n",
    "#print(series)\n",
    "\n",
    "for sen in series:\n",
    "    if \"Award:\" in sen:\n",
    "        sentences.append(sen.lstrip(\"Award:\"))\n",
    "sentences.pop(7)\n",
    "\n",
    "#print(sentences)\n",
    "\n",
    "flag,flag1,flag2=0,0,0\n",
    "\n",
    "for x  in sentences:\n",
    "    #print(x)\n",
    "    flag,flag1,flag2=0,0,0\n",
    "    if \"per annum\" in x:\n",
    "        flag=1\n",
    "       #print(x)\n",
    "        for y in x.split():\n",
    "            if y==\"INR\":\n",
    "                m=x.split()[x.split().index(y)+1]\n",
    "                b=m.split(',')\n",
    "                b=\"\".join(b)\n",
    "                #print(x)\n",
    "                money.append(int(b))\n",
    "    if \"per month\" in x:\n",
    "        flag1=1\n",
    "       #print(x)\n",
    "        for y in x.split():\n",
    "            if y==\"INR\":\n",
    "                m=x.split()[x.split().index(y)+1]#m=20,000\n",
    "                #print(m)\n",
    "                b=m.split(',')\n",
    "                #rint(b)\n",
    "                b=\"\".join(b)\n",
    "                #print(b)\n",
    "                money.append(int(b)*12)\n",
    "    if \"Lakh\"  in x:\n",
    "        flag2=1\n",
    "        for y in x.split():\n",
    "            if y==\"INR\":\n",
    "                m=x.split()[x.split().index(y)+1]\n",
    "                if '.' in m:#2.5 lakh\n",
    "                    #print(m)\n",
    "                    money.append(float(m)*100000)\n",
    "                elif ',' in m:\n",
    "                    b=m.split(',')#1,000 lakh\n",
    "                    b=\"\".join(b)\n",
    "                    money.append(b)\n",
    "                else:\n",
    "                    money.append(int(m)*100000)#1 lakh\n",
    "                    \n",
    "    \n",
    "    elif flag==flag1==flag2==0 :\n",
    "        for y in x.split():\n",
    "            if y==\"INR\":\n",
    "                m=x.split()[x.split().index(y)+1]\n",
    "                b=m.split(',')\n",
    "                b=\"\".join(b)\n",
    "               # print(b)\n",
    "                money.append(int(b))\n",
    "                \n",
    "                    \n",
    "                    \n",
    "        \n",
    "                \n",
    "\n",
    "\"\"\"for z  in sentences:\n",
    "    #rint(x)\n",
    "    if \"per month\" in z:\n",
    "        #print(z)\n",
    "        for k in z.split():\n",
    "            if k==\"INR\":\n",
    "                n=z.split()[z.split().index(k)+1]\n",
    "                #print(n)\n",
    "                a=n.split(',')\n",
    "                a=\"\".join(a)\n",
    "                #print(a)\n",
    "                money.append(int(a)*12)\"\"\"\n",
    "dict1={}\n",
    "for a in range(19):\n",
    "    dict1[scholarship[a]]=sentences[a]\n",
    "\n",
    "for u,v in dict1.items():\n",
    "    print(u,\":\",v)\n",
    "\n",
    "print(money)         \n"
   ]
  },
  {
   "cell_type": "code",
   "execution_count": 69,
   "id": "ea754133",
   "metadata": {},
   "outputs": [],
   "source": [
    "texts=[]"
   ]
  },
  {
   "cell_type": "code",
   "execution_count": 70,
   "id": "2e709304",
   "metadata": {},
   "outputs": [
    {
     "name": "stdout",
     "output_type": "stream",
     "text": [
      "Women\n",
      "L’Oréal India For Young Women in Science Scholarships\n"
     ]
    }
   ],
   "source": [
    "gender=input()\n",
    "for tag in soup.find_all([\"h3\"]):\n",
    "    if gender in tag.text.strip():\n",
    "        print(tag.text.strip())"
   ]
  },
  {
   "cell_type": "code",
   "execution_count": null,
   "id": "b23e2a8a",
   "metadata": {},
   "outputs": [],
   "source": [
    "\n"
   ]
  },
  {
   "cell_type": "code",
   "execution_count": null,
   "id": "eb1f83f2",
   "metadata": {},
   "outputs": [],
   "source": []
  },
  {
   "cell_type": "code",
   "execution_count": null,
   "id": "9975af06",
   "metadata": {},
   "outputs": [],
   "source": []
  },
  {
   "cell_type": "code",
   "execution_count": null,
   "id": "9016262c",
   "metadata": {},
   "outputs": [],
   "source": []
  },
  {
   "cell_type": "code",
   "execution_count": null,
   "id": "8796d694",
   "metadata": {},
   "outputs": [],
   "source": []
  }
 ],
 "metadata": {
  "kernelspec": {
   "display_name": "Python 3 (ipykernel)",
   "language": "python",
   "name": "python3"
  },
  "language_info": {
   "codemirror_mode": {
    "name": "ipython",
    "version": 3
   },
   "file_extension": ".py",
   "mimetype": "text/x-python",
   "name": "python",
   "nbconvert_exporter": "python",
   "pygments_lexer": "ipython3",
   "version": "3.9.7"
  }
 },
 "nbformat": 4,
 "nbformat_minor": 5
}
